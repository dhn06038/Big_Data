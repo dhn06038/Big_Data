{
  "cells": [
    {
      "cell_type": "markdown",
      "metadata": {
        "id": "6apGVff5h4ca"
      },
      "source": [
        "Install Dependencies:\n",
        "\n",
        "\n",
        "1.   Java 8\n",
        "2.   Apache Spark with hadoop and\n",
        "3.   Findspark (used to locate the spark in the system)\n"
      ]
    },
    {
      "cell_type": "code",
      "execution_count": null,
      "metadata": {
        "id": "tt7ZS1_wGgjn",
        "colab": {
          "base_uri": "https://localhost:8080/"
        },
        "outputId": "0fd63511-6836-4190-ff47-0ae35d059588"
      },
      "outputs": [
        {
          "output_type": "stream",
          "name": "stdout",
          "text": [
            "\n",
            "gzip: stdin: unexpected end of file\n",
            "tar: Unexpected EOF in archive\n",
            "tar: Unexpected EOF in archive\n",
            "tar: Error is not recoverable: exiting now\n"
          ]
        }
      ],
      "source": [
        "!apt-get install openjdk-8-jdk-headless -qq > /dev/null\n",
        "!wget -q http://archive.apache.org/dist/spark/spark-3.1.1/spark-3.1.1-bin-hadoop3.2.tgz\n",
        "!tar xf spark-3.1.1-bin-hadoop3.2.tgz\n",
        "!pip install -q findspark"
      ]
    },
    {
      "cell_type": "markdown",
      "metadata": {
        "id": "C3x0ZRLxjMVr"
      },
      "source": [
        "Set Environment Variables:"
      ]
    },
    {
      "cell_type": "code",
      "execution_count": null,
      "metadata": {
        "id": "sdOOq4twHN1K"
      },
      "outputs": [],
      "source": [
        "import os\n",
        "os.environ[\"JAVA_HOME\"] = \"/usr/lib/jvm/java-8-openjdk-amd64\"\n",
        "os.environ[\"SPARK_HOME\"] = \"/content/spark-3.1.1-bin-hadoop3.2\""
      ]
    },
    {
      "cell_type": "code",
      "execution_count": null,
      "metadata": {
        "id": "KR1zLBk1998Z"
      },
      "outputs": [],
      "source": [
        "import findspark\n",
        "findspark.init()\n",
        "from pyspark import SparkContext\n",
        "#sc = SparkContext()"
      ]
    },
    {
      "cell_type": "code",
      "execution_count": null,
      "metadata": {
        "colab": {
          "base_uri": "https://localhost:8080/"
        },
        "id": "WLJTwcx6o0R1",
        "outputId": "6ab65507-18b9-40d7-b9b3-dff87801a932"
      },
      "outputs": [
        {
          "output_type": "stream",
          "name": "stdout",
          "text": [
            "Mounted at /content/drive\n"
          ]
        }
      ],
      "source": [
        "from google.colab import drive\n",
        "drive.mount('/content/drive')"
      ]
    },
    {
      "cell_type": "markdown",
      "metadata": {
        "id": "LpPpP-KYtDHN"
      },
      "source": [
        "We are going to download some datasets called MovieLens\n",
        "https://grouplens.org/datasets/movielens/"
      ]
    },
    {
      "cell_type": "markdown",
      "metadata": {
        "id": "fN0QxWqk5kaz"
      },
      "source": [
        "Let's use ML-25M dataset\n",
        "- ratings.csv\n",
        "- movies.csv\n"
      ]
    },
    {
      "cell_type": "code",
      "execution_count": null,
      "metadata": {
        "id": "9HfCVghpRhF2"
      },
      "outputs": [],
      "source": [
        "sc = SparkContext.getOrCreate();\n",
        "from pyspark.sql import SparkSession\n",
        "spark = SparkSession(sc)\n",
        "movies = spark.read.csv('movies.csv',inferSchema=True, header=True)"
      ]
    },
    {
      "cell_type": "code",
      "execution_count": null,
      "metadata": {
        "colab": {
          "base_uri": "https://localhost:8080/"
        },
        "id": "05XCzr0gvQIC",
        "outputId": "f3a90b21-6abb-4ee9-b9e8-a8b6239948c8"
      },
      "outputs": [
        {
          "output_type": "stream",
          "name": "stdout",
          "text": [
            "+-------+--------------------+--------------------+\n",
            "|movieId|               title|              genres|\n",
            "+-------+--------------------+--------------------+\n",
            "|      1|    Toy Story (1995)|Adventure|Animati...|\n",
            "|      2|      Jumanji (1995)|Adventure|Childre...|\n",
            "|      3|Grumpier Old Men ...|      Comedy|Romance|\n",
            "|      4|Waiting to Exhale...|Comedy|Drama|Romance|\n",
            "|      5|Father of the Bri...|              Comedy|\n",
            "|      6|         Heat (1995)|Action|Crime|Thri...|\n",
            "|      7|      Sabrina (1995)|      Comedy|Romance|\n",
            "|      8| Tom and Huck (1995)|  Adventure|Children|\n",
            "|      9| Sudden Death (1995)|              Action|\n",
            "|     10|    GoldenEye (1995)|Action|Adventure|...|\n",
            "|     11|American Presiden...|Comedy|Drama|Romance|\n",
            "|     12|Dracula: Dead and...|       Comedy|Horror|\n",
            "|     13|        Balto (1995)|Adventure|Animati...|\n",
            "|     14|        Nixon (1995)|               Drama|\n",
            "|     15|Cutthroat Island ...|Action|Adventure|...|\n",
            "|     16|       Casino (1995)|         Crime|Drama|\n",
            "|     17|Sense and Sensibi...|       Drama|Romance|\n",
            "|     18|   Four Rooms (1995)|              Comedy|\n",
            "|     19|Ace Ventura: When...|              Comedy|\n",
            "|     20|  Money Train (1995)|Action|Comedy|Cri...|\n",
            "+-------+--------------------+--------------------+\n",
            "only showing top 20 rows\n",
            "\n"
          ]
        }
      ],
      "source": [
        "movies.show()"
      ]
    },
    {
      "cell_type": "markdown",
      "metadata": {
        "id": "0QJUfI5Mvpow"
      },
      "source": [
        "Can you find how many movies are there in movies.csv?  "
      ]
    },
    {
      "cell_type": "code",
      "execution_count": null,
      "metadata": {
        "colab": {
          "base_uri": "https://localhost:8080/"
        },
        "id": "KYnv91pqwkZW",
        "outputId": "593ace35-dc3d-44cd-ccf2-3114363c7c44"
      },
      "outputs": [
        {
          "output_type": "execute_result",
          "data": {
            "text/plain": [
              "62423"
            ]
          },
          "metadata": {},
          "execution_count": 7
        }
      ],
      "source": [
        "movies.count()"
      ]
    },
    {
      "cell_type": "code",
      "source": [
        "from pyspark.sql.functions import max\n",
        "movies.select([max(\"movieId\")]).show()"
      ],
      "metadata": {
        "colab": {
          "base_uri": "https://localhost:8080/"
        },
        "id": "D2cjNTMJD4-g",
        "outputId": "cd6ef69a-0fc5-47b4-dce1-d2df0e320e04"
      },
      "execution_count": null,
      "outputs": [
        {
          "output_type": "stream",
          "name": "stdout",
          "text": [
            "+------------+\n",
            "|max(movieId)|\n",
            "+------------+\n",
            "|      209171|\n",
            "+------------+\n",
            "\n"
          ]
        }
      ]
    },
    {
      "cell_type": "code",
      "source": [
        "movies.select(\"movieId\").rdd.max()"
      ],
      "metadata": {
        "colab": {
          "base_uri": "https://localhost:8080/"
        },
        "id": "EiUXxTFyEidu",
        "outputId": "4da7e79b-ad30-478a-db3c-3a36f165a9d1"
      },
      "execution_count": null,
      "outputs": [
        {
          "output_type": "execute_result",
          "data": {
            "text/plain": [
              "Row(movieId=209171)"
            ]
          },
          "metadata": {},
          "execution_count": 24
        }
      ]
    },
    {
      "cell_type": "code",
      "source": [
        "movies.select(\"movieId\").rdd.max()[0]"
      ],
      "metadata": {
        "colab": {
          "base_uri": "https://localhost:8080/"
        },
        "id": "RSi0Wye7EinL",
        "outputId": "ebba9266-ab4b-480a-9612-ec1930656e60"
      },
      "execution_count": null,
      "outputs": [
        {
          "output_type": "execute_result",
          "data": {
            "text/plain": [
              "209171"
            ]
          },
          "metadata": {},
          "execution_count": 25
        }
      ]
    },
    {
      "cell_type": "code",
      "source": [
        "rdd = movies.select(\"genres\").rdd"
      ],
      "metadata": {
        "id": "H9g7HV1FH7e-"
      },
      "execution_count": null,
      "outputs": []
    },
    {
      "cell_type": "code",
      "source": [
        "rdd2 = rdd.map(lambda x: x[0])"
      ],
      "metadata": {
        "id": "9zhaXyleH7h1"
      },
      "execution_count": null,
      "outputs": []
    },
    {
      "cell_type": "code",
      "source": [
        "rdd3 = rdd.map(lambda x: len(x[0].split('|')))"
      ],
      "metadata": {
        "id": "v5iKJAmOH7n4"
      },
      "execution_count": null,
      "outputs": []
    },
    {
      "cell_type": "code",
      "source": [
        "from pyspark.sql import Row\n",
        "def customColumn(row):\n",
        "  rD = row.asDict()\n",
        "  rD[\"countGenres\"] = len(row[\"genres\"].split('|'))\n",
        "  new_row = Row(**rD)\n",
        "  return new_row"
      ],
      "metadata": {
        "id": "oAH3yrX3H7tk"
      },
      "execution_count": null,
      "outputs": []
    },
    {
      "cell_type": "code",
      "source": [
        "moviesrdd = movies.rdd\n",
        "outputDF = moviesrdd.map(customColumn).toDF()\n",
        "outputDF.show()"
      ],
      "metadata": {
        "colab": {
          "base_uri": "https://localhost:8080/"
        },
        "id": "kJP085T9H7zv",
        "outputId": "19ebd2ec-2887-40c1-e375-50e053fb28f5"
      },
      "execution_count": null,
      "outputs": [
        {
          "output_type": "stream",
          "name": "stdout",
          "text": [
            "+-------+--------------------+--------------------+-----------+\n",
            "|movieId|               title|              genres|countGenres|\n",
            "+-------+--------------------+--------------------+-----------+\n",
            "|      1|    Toy Story (1995)|Adventure|Animati...|          5|\n",
            "|      2|      Jumanji (1995)|Adventure|Childre...|          3|\n",
            "|      3|Grumpier Old Men ...|      Comedy|Romance|          2|\n",
            "|      4|Waiting to Exhale...|Comedy|Drama|Romance|          3|\n",
            "|      5|Father of the Bri...|              Comedy|          1|\n",
            "|      6|         Heat (1995)|Action|Crime|Thri...|          3|\n",
            "|      7|      Sabrina (1995)|      Comedy|Romance|          2|\n",
            "|      8| Tom and Huck (1995)|  Adventure|Children|          2|\n",
            "|      9| Sudden Death (1995)|              Action|          1|\n",
            "|     10|    GoldenEye (1995)|Action|Adventure|...|          3|\n",
            "|     11|American Presiden...|Comedy|Drama|Romance|          3|\n",
            "|     12|Dracula: Dead and...|       Comedy|Horror|          2|\n",
            "|     13|        Balto (1995)|Adventure|Animati...|          3|\n",
            "|     14|        Nixon (1995)|               Drama|          1|\n",
            "|     15|Cutthroat Island ...|Action|Adventure|...|          3|\n",
            "|     16|       Casino (1995)|         Crime|Drama|          2|\n",
            "|     17|Sense and Sensibi...|       Drama|Romance|          2|\n",
            "|     18|   Four Rooms (1995)|              Comedy|          1|\n",
            "|     19|Ace Ventura: When...|              Comedy|          1|\n",
            "|     20|  Money Train (1995)|Action|Comedy|Cri...|          5|\n",
            "+-------+--------------------+--------------------+-----------+\n",
            "only showing top 20 rows\n",
            "\n"
          ]
        }
      ]
    },
    {
      "cell_type": "markdown",
      "metadata": {
        "id": "CWlYGqJs7qaB"
      },
      "source": [
        "Read ratings"
      ]
    },
    {
      "cell_type": "code",
      "execution_count": null,
      "metadata": {
        "id": "-Q5JC7F17taB",
        "colab": {
          "base_uri": "https://localhost:8080/",
          "height": 186
        },
        "outputId": "a3ca0bc9-8a35-414a-f442-2d95ab5fd0cd"
      },
      "outputs": [
        {
          "output_type": "error",
          "ename": "NameError",
          "evalue": "ignored",
          "traceback": [
            "\u001b[0;31m---------------------------------------------------------------------------\u001b[0m",
            "\u001b[0;31mNameError\u001b[0m                                 Traceback (most recent call last)",
            "\u001b[0;32m<ipython-input-1-f4a42d7f4e3d>\u001b[0m in \u001b[0;36m<cell line: 1>\u001b[0;34m()\u001b[0m\n\u001b[0;32m----> 1\u001b[0;31m \u001b[0mratings\u001b[0m \u001b[0;34m=\u001b[0m \u001b[0mspark\u001b[0m\u001b[0;34m.\u001b[0m\u001b[0mread\u001b[0m\u001b[0;34m.\u001b[0m\u001b[0mcsv\u001b[0m\u001b[0;34m(\u001b[0m\u001b[0;34m'ratings.csv'\u001b[0m\u001b[0;34m,\u001b[0m\u001b[0minferSchema\u001b[0m\u001b[0;34m=\u001b[0m\u001b[0;32mTrue\u001b[0m\u001b[0;34m,\u001b[0m \u001b[0mheader\u001b[0m\u001b[0;34m=\u001b[0m\u001b[0;32mTrue\u001b[0m\u001b[0;34m)\u001b[0m\u001b[0;34m\u001b[0m\u001b[0;34m\u001b[0m\u001b[0m\n\u001b[0m",
            "\u001b[0;31mNameError\u001b[0m: name 'spark' is not defined"
          ]
        }
      ],
      "source": [
        "ratings = spark.read.csv('ratings.csv',inferSchema=True, header=True)"
      ]
    },
    {
      "cell_type": "code",
      "execution_count": null,
      "metadata": {
        "colab": {
          "base_uri": "https://localhost:8080/"
        },
        "id": "7QHqzKdS7te5",
        "outputId": "89059261-7269-4375-898f-372dd411a0d2"
      },
      "outputs": [
        {
          "output_type": "stream",
          "name": "stdout",
          "text": [
            "+------+-------+------+----------+\n",
            "|userId|movieId|rating| timestamp|\n",
            "+------+-------+------+----------+\n",
            "|     1|    296|   5.0|1147880044|\n",
            "|     1|    306|   3.5|1147868817|\n",
            "|     1|    307|   5.0|1147868828|\n",
            "|     1|    665|   5.0|1147878820|\n",
            "|     1|    899|   3.5|1147868510|\n",
            "|     1|   1088|   4.0|1147868495|\n",
            "|     1|   1175|   3.5|1147868826|\n",
            "|     1|   1217|   3.5|1147878326|\n",
            "|     1|   1237|   5.0|1147868839|\n",
            "|     1|   1250|   4.0|1147868414|\n",
            "+------+-------+------+----------+\n",
            "only showing top 10 rows\n",
            "\n"
          ]
        }
      ],
      "source": [
        "ratings.show(10)"
      ]
    },
    {
      "cell_type": "code",
      "execution_count": null,
      "metadata": {
        "id": "MlLPI4s67thR"
      },
      "outputs": [],
      "source": [
        "ratings = ratings.drop(ratings.timestamp)"
      ]
    },
    {
      "cell_type": "code",
      "execution_count": null,
      "metadata": {
        "colab": {
          "base_uri": "https://localhost:8080/"
        },
        "id": "PQ1dKQaj7tjS",
        "outputId": "b9ac2f0b-702b-4f93-cd5d-b9d938c3613e"
      },
      "outputs": [
        {
          "output_type": "stream",
          "name": "stdout",
          "text": [
            "+------+-------+------+\n",
            "|userId|movieId|rating|\n",
            "+------+-------+------+\n",
            "|     1|    296|   5.0|\n",
            "|     1|    306|   3.5|\n",
            "|     1|    307|   5.0|\n",
            "|     1|    665|   5.0|\n",
            "|     1|    899|   3.5|\n",
            "|     1|   1088|   4.0|\n",
            "|     1|   1175|   3.5|\n",
            "|     1|   1217|   3.5|\n",
            "|     1|   1237|   5.0|\n",
            "|     1|   1250|   4.0|\n",
            "+------+-------+------+\n",
            "only showing top 10 rows\n",
            "\n"
          ]
        }
      ],
      "source": [
        "ratings.show(10)"
      ]
    },
    {
      "cell_type": "code",
      "execution_count": null,
      "metadata": {
        "colab": {
          "base_uri": "https://localhost:8080/"
        },
        "id": "X2k2bxkO7tnx",
        "outputId": "51f99ab1-e65d-4e97-e7a8-7dacacedb981"
      },
      "outputs": [
        {
          "output_type": "stream",
          "name": "stdout",
          "text": [
            "root\n",
            " |-- userId: integer (nullable = true)\n",
            " |-- movieId: integer (nullable = true)\n",
            " |-- rating: double (nullable = true)\n",
            "\n"
          ]
        }
      ],
      "source": [
        "ratings.printSchema()"
      ]
    },
    {
      "cell_type": "code",
      "execution_count": null,
      "metadata": {
        "colab": {
          "base_uri": "https://localhost:8080/"
        },
        "id": "5D8JDqMR7pii",
        "outputId": "4ddc0365-6dfd-4266-d4cd-d9a912444f74"
      },
      "outputs": [
        {
          "output_type": "stream",
          "name": "stdout",
          "text": [
            "+------+-------+------+\n",
            "|userId|movieId|rating|\n",
            "+------+-------+------+\n",
            "|     1|    296|   5.0|\n",
            "|     1|    306|   3.5|\n",
            "|     1|    307|   5.0|\n",
            "|     1|    665|   5.0|\n",
            "|     1|    899|   3.5|\n",
            "|     1|   1088|   4.0|\n",
            "|     1|   1175|   3.5|\n",
            "|     1|   1217|   3.5|\n",
            "|     1|   1237|   5.0|\n",
            "|     1|   1250|   4.0|\n",
            "+------+-------+------+\n",
            "only showing top 10 rows\n",
            "\n"
          ]
        }
      ],
      "source": [
        "ratings = ratings.withColumn(\"movieId\",ratings.movieId.cast('integer'))\n",
        "ratings = ratings.withColumn(\"userId\",ratings.userId.cast('long'))\n",
        "\n",
        "ratings.show(10)"
      ]
    },
    {
      "cell_type": "markdown",
      "metadata": {
        "id": "nExXAj1d9MEa"
      },
      "source": [
        "Can you check any duplicated reviews?\n",
        "same userID, same movieID...."
      ]
    },
    {
      "cell_type": "code",
      "source": [
        "ratings.printSchema()"
      ],
      "metadata": {
        "colab": {
          "base_uri": "https://localhost:8080/"
        },
        "id": "_1tde7fEC2My",
        "outputId": "554a225d-e602-435f-b27d-205da388db1c"
      },
      "execution_count": null,
      "outputs": [
        {
          "output_type": "stream",
          "name": "stdout",
          "text": [
            "root\n",
            " |-- userId: long (nullable = true)\n",
            " |-- movieId: integer (nullable = true)\n",
            " |-- rating: double (nullable = true)\n",
            "\n"
          ]
        }
      ]
    },
    {
      "cell_type": "code",
      "execution_count": null,
      "metadata": {
        "colab": {
          "base_uri": "https://localhost:8080/"
        },
        "id": "Uicm3OW69dfb",
        "outputId": "696ddcda-aaf0-4d9d-d307-93deee1c4893"
      },
      "outputs": [
        {
          "output_type": "stream",
          "name": "stdout",
          "text": [
            "+------+-------+-----+\n",
            "|userId|movieId|count|\n",
            "+------+-------+-----+\n",
            "|     2|   3479|    1|\n",
            "|     2|   4874|    1|\n",
            "|     3|  45447|    1|\n",
            "|     4| 102125|    1|\n",
            "|     5|     95|    1|\n",
            "|     8|    110|    1|\n",
            "|    12|    337|    1|\n",
            "|    12|    356|    1|\n",
            "|    12|   1411|    1|\n",
            "|    12|   1642|    1|\n",
            "|    12|   2321|    1|\n",
            "|    12|   3712|    1|\n",
            "|    13|   5459|    1|\n",
            "|    15|   1198|    1|\n",
            "|    17|   6377|    1|\n",
            "|    18|    588|    1|\n",
            "|    19|  86279|    1|\n",
            "|    23|    260|    1|\n",
            "|    23|   1726|    1|\n",
            "|    23|   1962|    1|\n",
            "+------+-------+-----+\n",
            "only showing top 20 rows\n",
            "\n"
          ]
        }
      ],
      "source": [
        "ratings.groupby(['userId', 'movieId']).count().show()"
      ]
    },
    {
      "cell_type": "markdown",
      "metadata": {
        "id": "mz4WSmws9mq6"
      },
      "source": [
        "Now we need to check if 'count' is above 1"
      ]
    },
    {
      "cell_type": "code",
      "execution_count": null,
      "metadata": {
        "colab": {
          "base_uri": "https://localhost:8080/"
        },
        "id": "Ben71Pso9TY1",
        "outputId": "afc79bd9-e55e-4b1c-b1a1-3250c45ee567"
      },
      "outputs": [
        {
          "output_type": "stream",
          "name": "stdout",
          "text": [
            "+------+-------+-----+\n",
            "|userId|movieId|count|\n",
            "+------+-------+-----+\n",
            "+------+-------+-----+\n",
            "\n"
          ]
        }
      ],
      "source": [
        "ratings.groupby(['userId', 'movieId']).count().where('count > 1') \\\n",
        "  .sort('count', ascending=False).show()"
      ]
    },
    {
      "cell_type": "markdown",
      "metadata": {
        "id": "06nCRnxbwC4v"
      },
      "source": [
        " Build your movie recommender system\n",
        "\n",
        "---\n",
        "\n"
      ]
    },
    {
      "cell_type": "markdown",
      "metadata": {
        "id": "NMqKn31H-vuC"
      },
      "source": [
        "\n",
        "\n",
        "*   Popularity based model\n",
        "\n"
      ]
    },
    {
      "cell_type": "markdown",
      "metadata": {
        "id": "tlhpCws2-z7I"
      },
      "source": [
        "If you want to build a RS based on popularity what would you do with the two dataset?"
      ]
    },
    {
      "cell_type": "markdown",
      "metadata": {
        "id": "WzGuMK8G-z9f"
      },
      "source": [
        "\n",
        "any thoughts?\n",
        "\n",
        "\n",
        "\n",
        "\n",
        "\n",
        "\n",
        "\n",
        "\n",
        "\n",
        "\n",
        "\n",
        "\n",
        "\n",
        "\n",
        "\n",
        "\n",
        "\n",
        "\n",
        "\n",
        "\n",
        "\n",
        "\n",
        "\n",
        "\n",
        "\n",
        "\n",
        "\n"
      ]
    },
    {
      "cell_type": "markdown",
      "metadata": {
        "id": "VOM2dzEf-0AB"
      },
      "source": []
    },
    {
      "cell_type": "markdown",
      "metadata": {
        "id": "OXmW889m_A3K"
      },
      "source": []
    },
    {
      "cell_type": "markdown",
      "metadata": {
        "id": "9SMDYPHb_A47"
      },
      "source": []
    },
    {
      "cell_type": "markdown",
      "metadata": {
        "id": "EpjRhxku_A7J"
      },
      "source": [
        "Yes! Let's count the number of reviews..."
      ]
    },
    {
      "cell_type": "code",
      "execution_count": null,
      "metadata": {
        "id": "XhCP6RQ8-vKz"
      },
      "outputs": [],
      "source": [
        "ratingsCnt = ratings.groupBy(\"movieId\").count()"
      ]
    },
    {
      "cell_type": "code",
      "execution_count": null,
      "metadata": {
        "colab": {
          "base_uri": "https://localhost:8080/"
        },
        "id": "Er-JtQl_-txr",
        "outputId": "245c0389-795f-4816-9a20-b68c43130989"
      },
      "outputs": [
        {
          "output_type": "stream",
          "name": "stdout",
          "text": [
            "+-------+-----+\n",
            "|movieId|count|\n",
            "+-------+-----+\n",
            "|     29|  293|\n",
            "|   3091|   42|\n",
            "|  60756|  119|\n",
            "|  71530|  122|\n",
            "|  72011|  232|\n",
            "| 106002|  141|\n",
            "| 106100|  220|\n",
            "|    474|  659|\n",
            "|   2927|   32|\n",
            "|   2529|  446|\n",
            "|  60408|   12|\n",
            "|     26|   93|\n",
            "|   5385|   26|\n",
            "|  96829|  103|\n",
            "|   1950|  103|\n",
            "|  51418|    8|\n",
            "|   2453|   43|\n",
            "|   4823|  148|\n",
            "|  71429|   19|\n",
            "|  72485|    1|\n",
            "+-------+-----+\n",
            "only showing top 20 rows\n",
            "\n"
          ]
        }
      ],
      "source": [
        "ratingsCnt.show()"
      ]
    },
    {
      "cell_type": "markdown",
      "metadata": {
        "id": "ByDN4SAI_kbr"
      },
      "source": [
        "Now, how do I get the most popular movie?   Like top 10 popular movies?"
      ]
    },
    {
      "cell_type": "code",
      "execution_count": null,
      "metadata": {
        "colab": {
          "base_uri": "https://localhost:8080/"
        },
        "id": "T9dpn0Y4_pcC",
        "outputId": "03ab8cd0-db50-451b-c77c-df8c45ef53d7"
      },
      "outputs": [
        {
          "output_type": "stream",
          "name": "stdout",
          "text": [
            "+-------+-----+\n",
            "|movieId|count|\n",
            "+-------+-----+\n",
            "|    356| 2875|\n",
            "|    318| 2867|\n",
            "|    296| 2814|\n",
            "|    593| 2641|\n",
            "|   2571| 2514|\n",
            "|    260| 2411|\n",
            "|    480| 2267|\n",
            "|    527| 2103|\n",
            "|   2959| 2071|\n",
            "|    110| 2059|\n",
            "|    589| 2034|\n",
            "|      1| 2019|\n",
            "|   1196| 2011|\n",
            "|     50| 1998|\n",
            "|   1210| 1911|\n",
            "|   1198| 1903|\n",
            "|   4993| 1874|\n",
            "|   2858| 1818|\n",
            "|    457| 1791|\n",
            "|    858| 1781|\n",
            "+-------+-----+\n",
            "only showing top 20 rows\n",
            "\n"
          ]
        }
      ],
      "source": [
        "ratingsCnt.sort('count', ascending=False).show()"
      ]
    },
    {
      "cell_type": "markdown",
      "metadata": {
        "id": "hduKvyur_x8g"
      },
      "source": [
        "Are you curious what that movies are????"
      ]
    },
    {
      "cell_type": "markdown",
      "metadata": {
        "id": "AlPBxxNO_494"
      },
      "source": [
        "what is movieID 356?"
      ]
    },
    {
      "cell_type": "code",
      "execution_count": null,
      "metadata": {
        "colab": {
          "base_uri": "https://localhost:8080/"
        },
        "id": "jAfnOVUn_9Fi",
        "outputId": "7850a9fb-c745-4f9c-f13c-9c1375677858"
      },
      "outputs": [
        {
          "output_type": "stream",
          "name": "stdout",
          "text": [
            "+-------+-------------------+--------------------+\n",
            "|movieId|              title|              genres|\n",
            "+-------+-------------------+--------------------+\n",
            "|    356|Forrest Gump (1994)|Comedy|Drama|Roma...|\n",
            "+-------+-------------------+--------------------+\n",
            "\n"
          ]
        }
      ],
      "source": [
        "movies.where('movieId = 356').show()"
      ]
    },
    {
      "cell_type": "markdown",
      "metadata": {
        "id": "4iO8_rh_AkAg"
      },
      "source": [
        "what about the 2nd popular movie?"
      ]
    },
    {
      "cell_type": "code",
      "execution_count": null,
      "metadata": {
        "colab": {
          "base_uri": "https://localhost:8080/"
        },
        "id": "yAUupkcUAi0I",
        "outputId": "f8653b83-dfd2-498d-8f3d-0f435e54d1a1"
      },
      "outputs": [
        {
          "output_type": "stream",
          "name": "stdout",
          "text": [
            "+-------+-------------------+--------------------+\n",
            "|movieId|              title|              genres|\n",
            "+-------+-------------------+--------------------+\n",
            "|    296|Pulp Fiction (1994)|Comedy|Crime|Dram...|\n",
            "+-------+-------------------+--------------------+\n",
            "\n"
          ]
        }
      ],
      "source": [
        "movies.where('movieId = 296').show()"
      ]
    },
    {
      "cell_type": "markdown",
      "metadata": {
        "id": "eCTNEEsMAs8w"
      },
      "source": [
        "what about the 3rd?"
      ]
    },
    {
      "cell_type": "code",
      "execution_count": null,
      "metadata": {
        "colab": {
          "base_uri": "https://localhost:8080/"
        },
        "id": "pQIKTmSg_9PY",
        "outputId": "c9863212-37b5-42c3-d173-f6e22fa12955"
      },
      "outputs": [
        {
          "output_type": "stream",
          "name": "stdout",
          "text": [
            "+-------+--------------------+-----------+\n",
            "|movieId|               title|     genres|\n",
            "+-------+--------------------+-----------+\n",
            "|    318|Shawshank Redempt...|Crime|Drama|\n",
            "+-------+--------------------+-----------+\n",
            "\n"
          ]
        }
      ],
      "source": [
        "movies.where('movieId = 318').show()"
      ]
    },
    {
      "cell_type": "markdown",
      "metadata": {
        "id": "VJLVZrvnBGxV"
      },
      "source": [
        "Can't see? use truncate function"
      ]
    },
    {
      "cell_type": "code",
      "execution_count": null,
      "metadata": {
        "colab": {
          "base_uri": "https://localhost:8080/"
        },
        "id": "64yMPVVqBGDw",
        "outputId": "2ffb4369-db04-4239-9c04-a5674a831825"
      },
      "outputs": [
        {
          "output_type": "stream",
          "name": "stdout",
          "text": [
            "+-------+--------------------------------+-----------+\n",
            "|movieId|title                           |genres     |\n",
            "+-------+--------------------------------+-----------+\n",
            "|318    |Shawshank Redemption, The (1994)|Crime|Drama|\n",
            "+-------+--------------------------------+-----------+\n",
            "\n"
          ]
        }
      ],
      "source": [
        "movies.where('movieId = 318').show(truncate=False)"
      ]
    },
    {
      "cell_type": "markdown",
      "metadata": {
        "id": "bPK9e5J1BlLA"
      },
      "source": [
        "Do we keep doing this with 20, 100 movies?"
      ]
    },
    {
      "cell_type": "markdown",
      "metadata": {
        "id": "zut9tAG-BlQg"
      },
      "source": [
        "No! Now is a good time to use join!\n"
      ]
    },
    {
      "cell_type": "markdown",
      "metadata": {
        "id": "EBEuC7BPB7YO"
      },
      "source": [
        "https://spark.apache.org/docs/3.1.2/api/python/reference/api/pyspark.sql.DataFrame.join.html"
      ]
    },
    {
      "cell_type": "code",
      "execution_count": null,
      "metadata": {
        "id": "nR638KJcB6op"
      },
      "outputs": [],
      "source": [
        "ratingsCntSorted = ratingsCnt.sort('count', ascending=False)"
      ]
    },
    {
      "cell_type": "code",
      "execution_count": null,
      "metadata": {
        "colab": {
          "base_uri": "https://localhost:8080/"
        },
        "id": "ZM6pkCygCIHH",
        "outputId": "26863af1-c6e3-4f3a-fca4-543b63388629"
      },
      "outputs": [
        {
          "output_type": "stream",
          "name": "stdout",
          "text": [
            "+-------+-----+\n",
            "|movieId|count|\n",
            "+-------+-----+\n",
            "|    356| 2875|\n",
            "|    318| 2867|\n",
            "|    296| 2814|\n",
            "|    593| 2641|\n",
            "|   2571| 2514|\n",
            "|    260| 2411|\n",
            "|    480| 2267|\n",
            "|    527| 2103|\n",
            "|   2959| 2071|\n",
            "|    110| 2059|\n",
            "+-------+-----+\n",
            "only showing top 10 rows\n",
            "\n"
          ]
        }
      ],
      "source": [
        "ratingsCntSorted.show(10)"
      ]
    },
    {
      "cell_type": "code",
      "execution_count": null,
      "metadata": {
        "colab": {
          "base_uri": "https://localhost:8080/"
        },
        "id": "l8SLDMBb_3-J",
        "outputId": "c95c3786-1ad7-4683-e2c3-a108290a3d3c"
      },
      "outputs": [
        {
          "output_type": "stream",
          "name": "stdout",
          "text": [
            "+-------+-----+--------------------+--------------------+\n",
            "|movieId|count|               title|              genres|\n",
            "+-------+-----+--------------------+--------------------+\n",
            "|     29|  293|City of Lost Chil...|Adventure|Drama|F...|\n",
            "|   3091|   42|    Kagemusha (1980)|           Drama|War|\n",
            "|  60756|  119|Step Brothers (2008)|              Comedy|\n",
            "|  71530|  122|   Surrogates (2009)|Action|Sci-Fi|Thr...|\n",
            "|  72011|  232|Up in the Air (2009)|       Drama|Romance|\n",
            "| 106002|  141| Ender's Game (2013)|Action|Adventure|...|\n",
            "| 106100|  220|Dallas Buyers Clu...|               Drama|\n",
            "|    474|  659|In the Line of Fi...|     Action|Thriller|\n",
            "|   2927|   32|Brief Encounter (...|       Drama|Romance|\n",
            "|   2529|  446|Planet of the Ape...| Action|Drama|Sci-Fi|\n",
            "|  60408|   12|Welcome to the St...|              Comedy|\n",
            "|     26|   93|      Othello (1995)|               Drama|\n",
            "|   5385|   26|Last Waltz, The (...|         Documentary|\n",
            "|  96829|  103|Hunt, The (Jagten...|               Drama|\n",
            "|   1950|  103|In the Heat of th...|       Drama|Mystery|\n",
            "|  51418|    8|Breaking and Ente...|               Drama|\n",
            "|   2453|   43|Boy Who Could Fly...|       Drama|Fantasy|\n",
            "|   4823|  148|  Serendipity (2001)|      Comedy|Romance|\n",
            "|  71429|   19|World's Greatest ...|        Comedy|Drama|\n",
            "|  72485|    1|   Lemon Tree (2008)|               Drama|\n",
            "+-------+-----+--------------------+--------------------+\n",
            "only showing top 20 rows\n",
            "\n"
          ]
        }
      ],
      "source": [
        "ratingsCntSorted.join(movies, on='movieId').show()"
      ]
    },
    {
      "cell_type": "markdown",
      "metadata": {
        "id": "Cqlfh74GDD3F"
      },
      "source": [
        "what happened to the order of ratingCntSorted?"
      ]
    },
    {
      "cell_type": "markdown",
      "metadata": {
        "id": "V1vtYW3wDNHu"
      },
      "source": [
        "This is because of the shuffling under the hood"
      ]
    },
    {
      "cell_type": "code",
      "execution_count": null,
      "metadata": {
        "colab": {
          "base_uri": "https://localhost:8080/"
        },
        "id": "ML-IKtRZDMYH",
        "outputId": "e6cd8413-fcc6-44bd-8f82-1552eb2262de"
      },
      "outputs": [
        {
          "output_type": "stream",
          "name": "stdout",
          "text": [
            "+-------+-----+--------------------+--------------------+\n",
            "|movieId|count|               title|              genres|\n",
            "+-------+-----+--------------------+--------------------+\n",
            "|    356| 2875| Forrest Gump (1994)|Comedy|Drama|Roma...|\n",
            "|    318| 2867|Shawshank Redempt...|         Crime|Drama|\n",
            "|    296| 2814| Pulp Fiction (1994)|Comedy|Crime|Dram...|\n",
            "|    593| 2641|Silence of the La...|Crime|Horror|Thri...|\n",
            "|   2571| 2514|  Matrix, The (1999)|Action|Sci-Fi|Thr...|\n",
            "|    260| 2411|Star Wars: Episod...|Action|Adventure|...|\n",
            "|    480| 2267|Jurassic Park (1993)|Action|Adventure|...|\n",
            "|    527| 2103|Schindler's List ...|           Drama|War|\n",
            "|   2959| 2071|   Fight Club (1999)|Action|Crime|Dram...|\n",
            "|    110| 2059|   Braveheart (1995)|    Action|Drama|War|\n",
            "|    589| 2034|Terminator 2: Jud...|       Action|Sci-Fi|\n",
            "|      1| 2019|    Toy Story (1995)|Adventure|Animati...|\n",
            "|   1196| 2011|Star Wars: Episod...|Action|Adventure|...|\n",
            "|     50| 1998|Usual Suspects, T...|Crime|Mystery|Thr...|\n",
            "|   1210| 1911|Star Wars: Episod...|Action|Adventure|...|\n",
            "|   1198| 1903|Raiders of the Lo...|    Action|Adventure|\n",
            "|   4993| 1874|Lord of the Rings...|   Adventure|Fantasy|\n",
            "|   2858| 1818|American Beauty (...|       Drama|Romance|\n",
            "|    457| 1791|Fugitive, The (1993)|            Thriller|\n",
            "|    858| 1781|Godfather, The (1...|         Crime|Drama|\n",
            "+-------+-----+--------------------+--------------------+\n",
            "only showing top 20 rows\n",
            "\n"
          ]
        }
      ],
      "source": [
        "ratingsCntSorted.join(movies, on='movieId').orderBy('count', ascending=False).show()"
      ]
    },
    {
      "cell_type": "markdown",
      "metadata": {
        "id": "ChjILiZcEKgu"
      },
      "source": [
        "Now, let's extend our previous 'popularity'-based model..."
      ]
    },
    {
      "cell_type": "markdown",
      "metadata": {
        "id": "nXXlbKCgEQgw"
      },
      "source": [
        "Anything we forgot?"
      ]
    },
    {
      "cell_type": "markdown",
      "metadata": {
        "id": "aIq9qBx0ESbu"
      },
      "source": [
        "Yes, we didn't use ratings!"
      ]
    },
    {
      "cell_type": "markdown",
      "metadata": {
        "id": "hqvKZtlFEcXF"
      },
      "source": [
        "Can we get average rating scores for each movies?"
      ]
    },
    {
      "cell_type": "code",
      "execution_count": null,
      "metadata": {
        "colab": {
          "base_uri": "https://localhost:8080/"
        },
        "id": "A_4au2hQEh0d",
        "outputId": "01c0f061-eedf-44df-912e-d54e73d611a7"
      },
      "outputs": [
        {
          "name": "stdout",
          "output_type": "stream",
          "text": [
            "+------+-------+------+\n",
            "|userId|movieId|rating|\n",
            "+------+-------+------+\n",
            "|     1|    296|   5.0|\n",
            "|     1|    306|   3.5|\n",
            "|     1|    307|   5.0|\n",
            "|     1|    665|   5.0|\n",
            "|     1|    899|   3.5|\n",
            "|     1|   1088|   4.0|\n",
            "|     1|   1175|   3.5|\n",
            "|     1|   1217|   3.5|\n",
            "|     1|   1237|   5.0|\n",
            "|     1|   1250|   4.0|\n",
            "|     1|   1260|   3.5|\n",
            "|     1|   1653|   4.0|\n",
            "|     1|   2011|   2.5|\n",
            "|     1|   2012|   2.5|\n",
            "|     1|   2068|   2.5|\n",
            "|     1|   2161|   3.5|\n",
            "|     1|   2351|   4.5|\n",
            "|     1|   2573|   4.0|\n",
            "|     1|   2632|   5.0|\n",
            "|     1|   2692|   5.0|\n",
            "+------+-------+------+\n",
            "only showing top 20 rows\n",
            "\n"
          ]
        }
      ],
      "source": [
        "ratings.show()"
      ]
    },
    {
      "cell_type": "code",
      "execution_count": null,
      "metadata": {
        "id": "gCF77W5JEh42"
      },
      "outputs": [],
      "source": [
        "from pyspark.sql import functions as F"
      ]
    },
    {
      "cell_type": "markdown",
      "metadata": {
        "id": "HMTdo2OrExZW"
      },
      "source": [
        "Pyspark sql supports lot of functions :)"
      ]
    },
    {
      "cell_type": "markdown",
      "metadata": {
        "id": "lgVvIhiMFBQt"
      },
      "source": [
        "https://spark.apache.org/docs/latest/api/python/reference/pyspark.sql/functions.html"
      ]
    },
    {
      "cell_type": "markdown",
      "metadata": {
        "id": "UxH8sKPaFCwG"
      },
      "source": [
        "see aggregate functions !!!"
      ]
    },
    {
      "cell_type": "code",
      "execution_count": null,
      "metadata": {
        "colab": {
          "base_uri": "https://localhost:8080/"
        },
        "id": "2uGcrlCnEwnv",
        "outputId": "db63f635-323e-4301-807b-46a7ab4fff3c"
      },
      "outputs": [
        {
          "name": "stdout",
          "output_type": "stream",
          "text": [
            "+-------+------------------+\n",
            "|movieId|       avg(rating)|\n",
            "+-------+------------------+\n",
            "|     29|3.9108723135271806|\n",
            "|   3091| 4.049411764705883|\n",
            "|  60756|3.3919098143236073|\n",
            "|  71530| 3.277027027027027|\n",
            "|  72011|3.7143366619115548|\n",
            "| 106002| 3.391304347826087|\n",
            "| 106100|3.8762135922330097|\n",
            "|    474|3.7230081906180192|\n",
            "|   2927|4.0618181818181816|\n",
            "|   2529|3.6230748446365846|\n",
            "|  60408|3.7848837209302326|\n",
            "|     26|3.6283185840707963|\n",
            "|   5385| 4.062730627306273|\n",
            "|  96829| 4.010617760617761|\n",
            "|   1950| 4.054744525547445|\n",
            "|  51418| 3.109090909090909|\n",
            "|   2453|3.0966257668711656|\n",
            "|   4823|3.3626168224299064|\n",
            "|  71429|3.3524590163934427|\n",
            "|  72485|           3.71875|\n",
            "+-------+------------------+\n",
            "only showing top 20 rows\n",
            "\n"
          ]
        }
      ],
      "source": [
        "ratings.groupBy(\"movieId\").agg(F.mean('rating')).show()"
      ]
    },
    {
      "cell_type": "markdown",
      "metadata": {
        "id": "wWBkpqZDFXKN"
      },
      "source": [
        "what about I want to aggregate more than 1... (mean and count)"
      ]
    },
    {
      "cell_type": "code",
      "execution_count": null,
      "metadata": {
        "colab": {
          "base_uri": "https://localhost:8080/"
        },
        "id": "PqL6QXYoEh7N",
        "outputId": "af8c7ac4-c4dd-4f2b-a28a-eaded0281005"
      },
      "outputs": [
        {
          "name": "stdout",
          "output_type": "stream",
          "text": [
            "+-------+------------------+-------------+\n",
            "|movieId|       avg(rating)|count(rating)|\n",
            "+-------+------------------+-------------+\n",
            "|     29|3.9108723135271806|         2373|\n",
            "|   3091| 4.049411764705883|          425|\n",
            "|  60756|3.3919098143236073|          754|\n",
            "|  71530| 3.277027027027027|          592|\n",
            "|  72011|3.7143366619115548|         1402|\n",
            "| 106002| 3.391304347826087|          598|\n",
            "| 106100|3.8762135922330097|         1030|\n",
            "|    474|3.7230081906180192|         5372|\n",
            "|   2927|4.0618181818181816|          275|\n",
            "|   2529|3.6230748446365846|         3701|\n",
            "|  60408|3.7848837209302326|           86|\n",
            "|     26|3.6283185840707963|          791|\n",
            "|   5385| 4.062730627306273|          271|\n",
            "|  96829| 4.010617760617761|          518|\n",
            "|   1950| 4.054744525547445|          959|\n",
            "|  51418| 3.109090909090909|           55|\n",
            "|   2453|3.0966257668711656|          326|\n",
            "|   4823|3.3626168224299064|         1070|\n",
            "|  71429|3.3524590163934427|          122|\n",
            "|  72485|           3.71875|           16|\n",
            "+-------+------------------+-------------+\n",
            "only showing top 20 rows\n",
            "\n"
          ]
        }
      ],
      "source": [
        "ratings.groupBy(\"movieId\").agg(F.mean('rating'), F.count('rating')).show()"
      ]
    },
    {
      "cell_type": "markdown",
      "metadata": {
        "id": "kdZDlCotFpk2"
      },
      "source": [
        "Do you want to apply a function on both column and create another column?"
      ]
    },
    {
      "cell_type": "markdown",
      "metadata": {
        "id": "kAjHCCC7GW5d"
      },
      "source": [
        "Let's use UDF! (feel free to search )"
      ]
    },
    {
      "cell_type": "code",
      "execution_count": null,
      "metadata": {
        "id": "2y1v_uV-G1hO"
      },
      "outputs": [],
      "source": [
        "ratingsAgg = ratings.groupBy(\"movieId\").agg(F.mean('rating'), F.count('rating'))"
      ]
    },
    {
      "cell_type": "code",
      "execution_count": null,
      "metadata": {
        "colab": {
          "base_uri": "https://localhost:8080/"
        },
        "id": "GsR1LL7pFo7A",
        "outputId": "07754955-b34b-4c19-8581-fcd9076e020a"
      },
      "outputs": [
        {
          "name": "stdout",
          "output_type": "stream",
          "text": [
            "+-------+------------------+-------------+------------------+\n",
            "|movieId|       avg(rating)|count(rating)|           rsScore|\n",
            "+-------+------------------+-------------+------------------+\n",
            "|     29|3.9108723135271806|         2373|3.9108723135271806|\n",
            "|   3091| 4.049411764705883|          425| 4.049411764705883|\n",
            "|  60756|3.3919098143236073|          754|3.3919098143236073|\n",
            "|  71530| 3.277027027027027|          592| 3.277027027027027|\n",
            "|  72011|3.7143366619115548|         1402|3.7143366619115548|\n",
            "| 106002| 3.391304347826087|          598| 3.391304347826087|\n",
            "| 106100|3.8762135922330097|         1030|3.8762135922330097|\n",
            "|    474|3.7230081906180192|         5372|3.7230081906180192|\n",
            "|   2927|4.0618181818181816|          275|4.0618181818181816|\n",
            "|   2529|3.6230748446365846|         3701|3.6230748446365846|\n",
            "|  60408|3.7848837209302326|           86|3.7848837209302326|\n",
            "|     26|3.6283185840707963|          791|3.6283185840707963|\n",
            "|   5385| 4.062730627306273|          271| 4.062730627306273|\n",
            "|  96829| 4.010617760617761|          518| 4.010617760617761|\n",
            "|   1950| 4.054744525547445|          959| 4.054744525547445|\n",
            "|  51418| 3.109090909090909|           55| 3.109090909090909|\n",
            "|   2453|3.0966257668711656|          326|3.0966257668711656|\n",
            "|   4823|3.3626168224299064|         1070|3.3626168224299064|\n",
            "|  71429|3.3524590163934427|          122|3.3524590163934427|\n",
            "|  72485|           3.71875|           16|           3.71875|\n",
            "+-------+------------------+-------------+------------------+\n",
            "only showing top 20 rows\n",
            "\n"
          ]
        }
      ],
      "source": [
        "from pyspark.sql.functions import udf\n",
        "\n",
        "\n",
        "rs = udf(lambda x : x )     # you try here....!\n",
        "rsScores = ratingsAgg.withColumn('rsScore', rs(ratingsAgg['avg(rating)']))\n",
        "rsScores.show()"
      ]
    },
    {
      "cell_type": "code",
      "execution_count": null,
      "metadata": {
        "id": "mTlcHEaWDDIv"
      },
      "outputs": [],
      "source": [
        "avg functions"
      ]
    }
  ],
  "metadata": {
    "colab": {
      "provenance": []
    },
    "kernelspec": {
      "display_name": "Python 3 (ipykernel)",
      "language": "python",
      "name": "python3"
    },
    "language_info": {
      "codemirror_mode": {
        "name": "ipython",
        "version": 3
      },
      "file_extension": ".py",
      "mimetype": "text/x-python",
      "name": "python",
      "nbconvert_exporter": "python",
      "pygments_lexer": "ipython3",
      "version": "3.9.13"
    }
  },
  "nbformat": 4,
  "nbformat_minor": 0
}