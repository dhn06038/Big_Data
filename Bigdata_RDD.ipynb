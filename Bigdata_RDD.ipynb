{
  "nbformat": 4,
  "nbformat_minor": 0,
  "metadata": {
    "colab": {
      "provenance": []
    },
    "kernelspec": {
      "display_name": "Python 3",
      "language": "python",
      "name": "python3"
    },
    "language_info": {
      "codemirror_mode": {
        "name": "ipython",
        "version": 3
      },
      "file_extension": ".py",
      "mimetype": "text/x-python",
      "name": "python",
      "nbconvert_exporter": "python",
      "pygments_lexer": "ipython3",
      "version": "3.6.5"
    }
  },
  "cells": [
    {
      "cell_type": "markdown",
      "metadata": {
        "id": "Dd6t0uFzuR4X"
      },
      "source": [
        "<a id='installing-spark'></a>\n",
        "### Installing Spark"
      ]
    },
    {
      "cell_type": "markdown",
      "metadata": {
        "id": "6apGVff5h4ca"
      },
      "source": [
        "Install Dependencies:\n",
        "\n",
        "\n",
        "1.   Java 8\n",
        "2.   Apache Spark with hadoop and\n",
        "3.   Findspark (used to locate the spark in the system)\n"
      ]
    },
    {
      "cell_type": "code",
      "metadata": {
        "id": "tt7ZS1_wGgjn"
      },
      "source": [
        "!apt-get install openjdk-8-jdk-headless -qq > /dev/null\n",
        "!wget -q http://archive.apache.org/dist/spark/spark-3.1.1/spark-3.1.1-bin-hadoop3.2.tgz\n",
        "!tar xf spark-3.1.1-bin-hadoop3.2.tgz\n",
        "!pip install -q findspark"
      ],
      "execution_count": null,
      "outputs": []
    },
    {
      "cell_type": "markdown",
      "metadata": {
        "id": "C3x0ZRLxjMVr"
      },
      "source": [
        "Set Environment Variables:"
      ]
    },
    {
      "cell_type": "code",
      "metadata": {
        "id": "sdOOq4twHN1K"
      },
      "source": [
        "import os\n",
        "os.environ[\"JAVA_HOME\"] = \"/usr/lib/jvm/java-8-openjdk-amd64\"\n",
        "os.environ[\"SPARK_HOME\"] = \"/content/spark-3.1.1-bin-hadoop3.2\""
      ],
      "execution_count": null,
      "outputs": []
    },
    {
      "cell_type": "code",
      "metadata": {
        "id": "3ACYMwhgHTYz",
        "colab": {
          "base_uri": "https://localhost:8080/"
        },
        "outputId": "1c94a893-e54c-4512-8e5d-d39049f2c958"
      },
      "source": [
        "!ls"
      ],
      "execution_count": null,
      "outputs": [
        {
          "output_type": "stream",
          "name": "stdout",
          "text": [
            "sample_data  spark-3.1.1-bin-hadoop3.2\tspark-3.1.1-bin-hadoop3.2.tgz\n"
          ]
        }
      ]
    },
    {
      "cell_type": "code",
      "metadata": {
        "id": "KR1zLBk1998Z"
      },
      "source": [
        "import findspark\n",
        "findspark.init()\n",
        "from pyspark import SparkContext\n",
        "sc = SparkContext()"
      ],
      "execution_count": null,
      "outputs": []
    },
    {
      "cell_type": "code",
      "source": [
        "sc = SparkContext.getOrCreate();"
      ],
      "metadata": {
        "id": "9HfCVghpRhF2"
      },
      "execution_count": null,
      "outputs": []
    },
    {
      "cell_type": "code",
      "source": [
        "wordsList = [\"abc\", \"apple\", \"apple\", \"orange\", \"watermelon\", \"seed\", \"apple_seed\", \"history\", \"happy\"]\n",
        "wordsRDD = sc.parallelize(wordsList)\n",
        "wordsRDD.getNumPartitions()"
      ],
      "metadata": {
        "id": "2FcY1dWwQ8O4",
        "outputId": "ca08db96-1263-439a-9bf5-0059d55d0deb",
        "colab": {
          "base_uri": "https://localhost:8080/"
        }
      },
      "execution_count": null,
      "outputs": [
        {
          "output_type": "execute_result",
          "data": {
            "text/plain": [
              "2"
            ]
          },
          "metadata": {},
          "execution_count": 6
        }
      ]
    },
    {
      "cell_type": "code",
      "source": [
        "print(wordsRDD.collect())"
      ],
      "metadata": {
        "colab": {
          "base_uri": "https://localhost:8080/"
        },
        "id": "-w7DLmp5K2TX",
        "outputId": "664b1127-e089-4eb0-f967-595703801ffc"
      },
      "execution_count": null,
      "outputs": [
        {
          "output_type": "stream",
          "name": "stdout",
          "text": [
            "['abc', 'apple', 'apple', 'orange', 'watermelon', 'seed', 'apple_seed', 'history', 'happy']\n"
          ]
        }
      ]
    },
    {
      "cell_type": "code",
      "source": [
        "wordsRDD = sc.parallelize(wordsList,4)\n",
        "wordsRDD.getNumPartitions()"
      ],
      "metadata": {
        "id": "htacCDfuRkEJ",
        "outputId": "f045e4c9-9dcd-4522-980a-2ab390c70dea",
        "colab": {
          "base_uri": "https://localhost:8080/"
        }
      },
      "execution_count": null,
      "outputs": [
        {
          "output_type": "execute_result",
          "data": {
            "text/plain": [
              "4"
            ]
          },
          "metadata": {},
          "execution_count": 8
        }
      ]
    },
    {
      "cell_type": "markdown",
      "source": [
        "is there any way to check the elements in each partition?"
      ],
      "metadata": {
        "id": "fKuo7S-EeSLo"
      }
    },
    {
      "cell_type": "markdown",
      "source": [
        "https://spark.apache.org/docs/latest/api/python/reference/api/pyspark.RDD.glom.html"
      ],
      "metadata": {
        "id": "79I6Z-Wner8q"
      }
    },
    {
      "cell_type": "code",
      "source": [
        "wordsRDD.glom().collect()"
      ],
      "metadata": {
        "id": "1xCr4Cp3elmF",
        "colab": {
          "base_uri": "https://localhost:8080/"
        },
        "outputId": "a6ade8f1-b6b2-4b66-c564-5d03cb732d3a"
      },
      "execution_count": null,
      "outputs": [
        {
          "output_type": "execute_result",
          "data": {
            "text/plain": [
              "[['abc', 'apple'],\n",
              " ['apple', 'orange'],\n",
              " ['watermelon', 'seed'],\n",
              " ['apple_seed', 'history', 'happy']]"
            ]
          },
          "metadata": {},
          "execution_count": 9
        }
      ]
    },
    {
      "cell_type": "code",
      "source": [
        "a = sc.parallelize(range(10), 5)\n",
        "a.glom().collect()"
      ],
      "metadata": {
        "colab": {
          "base_uri": "https://localhost:8080/"
        },
        "id": "Lk4_dZB7eRaM",
        "outputId": "5b72607c-11aa-4908-e4d7-45f63ecbdd7b"
      },
      "execution_count": null,
      "outputs": [
        {
          "output_type": "execute_result",
          "data": {
            "text/plain": [
              "[[0, 1], [2, 3], [4, 5], [6, 7], [8, 9]]"
            ]
          },
          "metadata": {},
          "execution_count": 10
        }
      ]
    },
    {
      "cell_type": "markdown",
      "source": [
        "Can we perform repartition ? https://spark.apache.org/docs/latest/api/python/reference/api/pyspark.RDD.repartition.html"
      ],
      "metadata": {
        "id": "CNbaLi2AeRtK"
      }
    },
    {
      "cell_type": "code",
      "source": [
        "a.repartition(2).glom().collect()"
      ],
      "metadata": {
        "colab": {
          "base_uri": "https://localhost:8080/"
        },
        "id": "YI9u3WdTiPsi",
        "outputId": "c0d9cc6d-db15-437a-c230-d4d1ad9b26bf"
      },
      "execution_count": null,
      "outputs": [
        {
          "output_type": "execute_result",
          "data": {
            "text/plain": [
              "[[0, 1, 4, 5, 6, 7], [2, 3, 8, 9]]"
            ]
          },
          "metadata": {},
          "execution_count": 11
        }
      ]
    },
    {
      "cell_type": "code",
      "source": [
        "a.repartition(2).getNumPartitions()"
      ],
      "metadata": {
        "colab": {
          "base_uri": "https://localhost:8080/"
        },
        "id": "C1r9HSSBNz_9",
        "outputId": "6b529007-9b61-4c25-8ee2-9dcf7ff1826b"
      },
      "execution_count": null,
      "outputs": [
        {
          "output_type": "execute_result",
          "data": {
            "text/plain": [
              "2"
            ]
          },
          "metadata": {},
          "execution_count": 12
        }
      ]
    },
    {
      "cell_type": "markdown",
      "source": [
        "The above output involved shuffuling"
      ],
      "metadata": {
        "id": "y57D5AOpikih"
      }
    },
    {
      "cell_type": "code",
      "source": [
        "a = sc.parallelize(range(12), 4)\n",
        "a.glom().collect()"
      ],
      "metadata": {
        "colab": {
          "base_uri": "https://localhost:8080/"
        },
        "id": "YAtF5XxWiZbM",
        "outputId": "ddeee469-d90b-4890-95af-18d35280a123"
      },
      "execution_count": null,
      "outputs": [
        {
          "output_type": "execute_result",
          "data": {
            "text/plain": [
              "[[0, 1, 2], [3, 4, 5], [6, 7, 8], [9, 10, 11]]"
            ]
          },
          "metadata": {},
          "execution_count": 13
        }
      ]
    },
    {
      "cell_type": "code",
      "source": [
        "a.coalesce(2).glom().collect()"
      ],
      "metadata": {
        "colab": {
          "base_uri": "https://localhost:8080/"
        },
        "id": "WuPH4wY6iuLC",
        "outputId": "17d92620-4049-42b5-89c4-1c77968b39d3"
      },
      "execution_count": null,
      "outputs": [
        {
          "output_type": "execute_result",
          "data": {
            "text/plain": [
              "[[0, 1, 2, 3, 4, 5], [6, 7, 8, 9, 10, 11]]"
            ]
          },
          "metadata": {},
          "execution_count": 14
        }
      ]
    },
    {
      "cell_type": "code",
      "source": [
        "wordsRDD.collect()"
      ],
      "metadata": {
        "colab": {
          "base_uri": "https://localhost:8080/"
        },
        "id": "hYKi8cZsPazZ",
        "outputId": "dbcef223-c5c3-4fb0-f193-525b5c0909c6"
      },
      "execution_count": null,
      "outputs": [
        {
          "output_type": "execute_result",
          "data": {
            "text/plain": [
              "['abc',\n",
              " 'apple',\n",
              " 'apple',\n",
              " 'orange',\n",
              " 'watermelon',\n",
              " 'seed',\n",
              " 'apple_seed',\n",
              " 'history',\n",
              " 'happy']"
            ]
          },
          "metadata": {},
          "execution_count": 15
        }
      ]
    },
    {
      "cell_type": "code",
      "source": [
        "rdd1 = wordsRDD.map(lambda x: (x, x[0]))\n",
        "rdd1.collect()"
      ],
      "metadata": {
        "colab": {
          "base_uri": "https://localhost:8080/"
        },
        "id": "EbxFPJyRQ2oU",
        "outputId": "ffdcace5-e0d4-4a10-a739-af9a1c8008ef"
      },
      "execution_count": null,
      "outputs": [
        {
          "output_type": "execute_result",
          "data": {
            "text/plain": [
              "[('abc', 'a'),\n",
              " ('apple', 'a'),\n",
              " ('apple', 'a'),\n",
              " ('orange', 'o'),\n",
              " ('watermelon', 'w'),\n",
              " ('seed', 's'),\n",
              " ('apple_seed', 'a'),\n",
              " ('history', 'h'),\n",
              " ('happy', 'h')]"
            ]
          },
          "metadata": {},
          "execution_count": 16
        }
      ]
    },
    {
      "cell_type": "code",
      "source": [
        "rdd2 = rdd1.map(lambda x: (x[1], x[0]))\n",
        "rdd2.collect()"
      ],
      "metadata": {
        "colab": {
          "base_uri": "https://localhost:8080/"
        },
        "id": "w4fFcTpIS9Rb",
        "outputId": "d10f8166-99c0-4808-b512-3c8a7fab7aa3"
      },
      "execution_count": null,
      "outputs": [
        {
          "output_type": "execute_result",
          "data": {
            "text/plain": [
              "[('a', 'abc'),\n",
              " ('a', 'apple'),\n",
              " ('a', 'apple'),\n",
              " ('o', 'orange'),\n",
              " ('w', 'watermelon'),\n",
              " ('s', 'seed'),\n",
              " ('a', 'apple_seed'),\n",
              " ('h', 'history'),\n",
              " ('h', 'happy')]"
            ]
          },
          "metadata": {},
          "execution_count": 17
        }
      ]
    },
    {
      "cell_type": "code",
      "source": [
        "a = 'apple'\n",
        "b = 'orange'\n",
        "a + b"
      ],
      "metadata": {
        "colab": {
          "base_uri": "https://localhost:8080/",
          "height": 35
        },
        "id": "vPghtgg9UPN7",
        "outputId": "a808e298-0128-4e14-a34a-328f05058aa2"
      },
      "execution_count": null,
      "outputs": [
        {
          "output_type": "execute_result",
          "data": {
            "text/plain": [
              "'appleorange'"
            ],
            "application/vnd.google.colaboratory.intrinsic+json": {
              "type": "string"
            }
          },
          "metadata": {},
          "execution_count": 18
        }
      ]
    },
    {
      "cell_type": "code",
      "source": [
        "rdd2.collect()"
      ],
      "metadata": {
        "colab": {
          "base_uri": "https://localhost:8080/"
        },
        "id": "2MPK4k0PUD6Y",
        "outputId": "9cb37e5e-1392-4bac-d044-3fff4c26fe64"
      },
      "execution_count": null,
      "outputs": [
        {
          "output_type": "execute_result",
          "data": {
            "text/plain": [
              "[('a', 'abc'),\n",
              " ('a', 'apple'),\n",
              " ('a', 'apple'),\n",
              " ('o', 'orange'),\n",
              " ('w', 'watermelon'),\n",
              " ('s', 'seed'),\n",
              " ('a', 'apple_seed'),\n",
              " ('h', 'history'),\n",
              " ('h', 'happy')]"
            ]
          },
          "metadata": {},
          "execution_count": 19
        }
      ]
    },
    {
      "cell_type": "code",
      "source": [
        "rdd3 = rdd2.map(lambda x:  (x[0],   ( x[1], 1  ) )  )\n",
        "rdd3.collect()"
      ],
      "metadata": {
        "colab": {
          "base_uri": "https://localhost:8080/"
        },
        "id": "7F8bhyo4VS3h",
        "outputId": "67ceced8-65dc-4871-8430-e5f1306d4fc5"
      },
      "execution_count": null,
      "outputs": [
        {
          "output_type": "execute_result",
          "data": {
            "text/plain": [
              "[('a', ('abc', 1)),\n",
              " ('a', ('apple', 1)),\n",
              " ('a', ('apple', 1)),\n",
              " ('o', ('orange', 1)),\n",
              " ('w', ('watermelon', 1)),\n",
              " ('s', ('seed', 1)),\n",
              " ('a', ('apple_seed', 1)),\n",
              " ('h', ('history', 1)),\n",
              " ('h', ('happy', 1))]"
            ]
          },
          "metadata": {},
          "execution_count": 20
        }
      ]
    },
    {
      "cell_type": "code",
      "source": [
        "rdd3.reduceByKey( lambda a, b : ( a[0], a[1]+b[1] )).collect()"
      ],
      "metadata": {
        "colab": {
          "base_uri": "https://localhost:8080/"
        },
        "id": "ZryIA5M4Vl-_",
        "outputId": "36f516f3-015b-492b-e0dd-ca06b1e42efc"
      },
      "execution_count": null,
      "outputs": [
        {
          "output_type": "execute_result",
          "data": {
            "text/plain": [
              "[('s', ('seed', 1)),\n",
              " ('a', ('abc', 4)),\n",
              " ('w', ('watermelon', 1)),\n",
              " ('h', ('history', 2)),\n",
              " ('o', ('orange', 1))]"
            ]
          },
          "metadata": {},
          "execution_count": 21
        }
      ]
    },
    {
      "cell_type": "code",
      "source": [
        "a = 'apple'\n",
        "a[0]"
      ],
      "metadata": {
        "colab": {
          "base_uri": "https://localhost:8080/",
          "height": 35
        },
        "id": "PItIEaRAQkLq",
        "outputId": "144945b4-23c1-431b-c522-aa5c2a47034b"
      },
      "execution_count": null,
      "outputs": [
        {
          "output_type": "execute_result",
          "data": {
            "text/plain": [
              "'a'"
            ],
            "application/vnd.google.colaboratory.intrinsic+json": {
              "type": "string"
            }
          },
          "metadata": {},
          "execution_count": 22
        }
      ]
    },
    {
      "cell_type": "code",
      "source": [
        "wordsRDD.map(lambda x:   (x, 1)  ).collect()"
      ],
      "metadata": {
        "colab": {
          "base_uri": "https://localhost:8080/"
        },
        "id": "rKK-Ep8vQGUb",
        "outputId": "ceafc289-8eee-40df-8afe-87fde14ea066"
      },
      "execution_count": null,
      "outputs": [
        {
          "output_type": "execute_result",
          "data": {
            "text/plain": [
              "[('abc', 1),\n",
              " ('apple', 1),\n",
              " ('apple', 1),\n",
              " ('orange', 1),\n",
              " ('watermelon', 1),\n",
              " ('seed', 1),\n",
              " ('apple_seed', 1),\n",
              " ('history', 1),\n",
              " ('happy', 1)]"
            ]
          },
          "metadata": {},
          "execution_count": 23
        }
      ]
    },
    {
      "cell_type": "code",
      "source": [],
      "metadata": {
        "id": "6Lk5l7mcQjD8"
      },
      "execution_count": null,
      "outputs": []
    },
    {
      "cell_type": "code",
      "source": [
        "wordPairs = wordsRDD.map(lambda x:x)\n",
        "wordPairs.collect()"
      ],
      "metadata": {
        "id": "e5bP2hoMRoEz",
        "outputId": "656c01db-aeb9-4646-beda-7dc12f98143e",
        "colab": {
          "base_uri": "https://localhost:8080/"
        }
      },
      "execution_count": null,
      "outputs": [
        {
          "output_type": "execute_result",
          "data": {
            "text/plain": [
              "['abc',\n",
              " 'apple',\n",
              " 'apple',\n",
              " 'orange',\n",
              " 'watermelon',\n",
              " 'seed',\n",
              " 'apple_seed',\n",
              " 'history',\n",
              " 'happy']"
            ]
          },
          "metadata": {},
          "execution_count": 24
        }
      ]
    },
    {
      "cell_type": "code",
      "source": [
        "wordPairs = wordsRDD.map(lambda x:(x,1))\n",
        "wordPairs.collect()"
      ],
      "metadata": {
        "id": "id439vktRoLj",
        "outputId": "75763717-3b90-4a7b-ff09-e401bf6c8ca6",
        "colab": {
          "base_uri": "https://localhost:8080/"
        }
      },
      "execution_count": null,
      "outputs": [
        {
          "output_type": "execute_result",
          "data": {
            "text/plain": [
              "[('abc', 1),\n",
              " ('apple', 1),\n",
              " ('apple', 1),\n",
              " ('orange', 1),\n",
              " ('watermelon', 1),\n",
              " ('seed', 1),\n",
              " ('apple_seed', 1),\n",
              " ('history', 1),\n",
              " ('happy', 1)]"
            ]
          },
          "metadata": {},
          "execution_count": 25
        }
      ]
    },
    {
      "cell_type": "code",
      "source": [
        "wordsCount = wordPairs.reduceByKey(lambda a,b:a +b)\n",
        "wordsCount.collect()"
      ],
      "metadata": {
        "colab": {
          "base_uri": "https://localhost:8080/"
        },
        "id": "pm8joDKiSjgt",
        "outputId": "f8347ec1-694a-48fc-f3c4-6fc076da2242"
      },
      "execution_count": null,
      "outputs": [
        {
          "output_type": "execute_result",
          "data": {
            "text/plain": [
              "[('orange', 1),\n",
              " ('watermelon', 1),\n",
              " ('apple_seed', 1),\n",
              " ('history', 1),\n",
              " ('abc', 1),\n",
              " ('seed', 1),\n",
              " ('apple', 2),\n",
              " ('happy', 1)]"
            ]
          },
          "metadata": {},
          "execution_count": 26
        }
      ]
    },
    {
      "cell_type": "code",
      "source": [
        "rdd2.collect()"
      ],
      "metadata": {
        "colab": {
          "base_uri": "https://localhost:8080/"
        },
        "id": "8m5zDdRqW3sS",
        "outputId": "0580a81a-f9f3-46e4-e397-8bd448b903c0"
      },
      "execution_count": null,
      "outputs": [
        {
          "output_type": "execute_result",
          "data": {
            "text/plain": [
              "[('a', 'abc'),\n",
              " ('a', 'apple'),\n",
              " ('a', 'apple'),\n",
              " ('o', 'orange'),\n",
              " ('w', 'watermelon'),\n",
              " ('s', 'seed'),\n",
              " ('a', 'apple_seed'),\n",
              " ('h', 'history'),\n",
              " ('h', 'happy')]"
            ]
          },
          "metadata": {},
          "execution_count": 27
        }
      ]
    },
    {
      "cell_type": "code",
      "source": [
        "wordsGrouped = rdd2.groupByKey()\n",
        "wordsGrouped.collect()"
      ],
      "metadata": {
        "id": "Q2JKrJLNRoOj",
        "colab": {
          "base_uri": "https://localhost:8080/"
        },
        "outputId": "3e8378da-60b8-4f53-afe9-bef3e9db5828"
      },
      "execution_count": null,
      "outputs": [
        {
          "output_type": "execute_result",
          "data": {
            "text/plain": [
              "[('s', <pyspark.resultiterable.ResultIterable at 0x79b26823b7f0>),\n",
              " ('a', <pyspark.resultiterable.ResultIterable at 0x79b26823af20>),\n",
              " ('w', <pyspark.resultiterable.ResultIterable at 0x79b26823ad70>),\n",
              " ('h', <pyspark.resultiterable.ResultIterable at 0x79b26823b310>),\n",
              " ('o', <pyspark.resultiterable.ResultIterable at 0x79b26823bb80>)]"
            ]
          },
          "metadata": {},
          "execution_count": 28
        }
      ]
    },
    {
      "cell_type": "code",
      "source": [
        "rdd4 = wordsGrouped.mapValues(list)\n",
        "rdd4.collect()"
      ],
      "metadata": {
        "colab": {
          "base_uri": "https://localhost:8080/"
        },
        "id": "eexLFSZxW20s",
        "outputId": "aefbdcf5-f771-4be0-844c-e98083a5786c"
      },
      "execution_count": null,
      "outputs": [
        {
          "output_type": "execute_result",
          "data": {
            "text/plain": [
              "[('s', ['seed']),\n",
              " ('a', ['abc', 'apple', 'apple', 'apple_seed']),\n",
              " ('w', ['watermelon']),\n",
              " ('h', ['history', 'happy']),\n",
              " ('o', ['orange'])]"
            ]
          },
          "metadata": {},
          "execution_count": 29
        }
      ]
    },
    {
      "cell_type": "code",
      "source": [
        "rdd5 = rdd4.map(lambda x:  (x[0],  len(x[1]) ))\n",
        "rdd5.collect()"
      ],
      "metadata": {
        "colab": {
          "base_uri": "https://localhost:8080/"
        },
        "id": "hfZmBYxTYIcm",
        "outputId": "43db7210-f7f4-4e77-bc86-f54707ab8aae"
      },
      "execution_count": null,
      "outputs": [
        {
          "output_type": "execute_result",
          "data": {
            "text/plain": [
              "[('s', 1), ('a', 4), ('w', 1), ('h', 2), ('o', 1)]"
            ]
          },
          "metadata": {},
          "execution_count": 30
        }
      ]
    },
    {
      "cell_type": "code",
      "source": [
        "rdd2.collect()"
      ],
      "metadata": {
        "colab": {
          "base_uri": "https://localhost:8080/"
        },
        "id": "dn4vpPaIZAnI",
        "outputId": "367f7c71-3d0f-44b9-81e4-6054a81ef40b"
      },
      "execution_count": null,
      "outputs": [
        {
          "output_type": "execute_result",
          "data": {
            "text/plain": [
              "[('a', 'abc'),\n",
              " ('a', 'apple'),\n",
              " ('a', 'apple'),\n",
              " ('o', 'orange'),\n",
              " ('w', 'watermelon'),\n",
              " ('s', 'seed'),\n",
              " ('a', 'apple_seed'),\n",
              " ('h', 'history'),\n",
              " ('h', 'happy')]"
            ]
          },
          "metadata": {},
          "execution_count": 43
        }
      ]
    },
    {
      "cell_type": "code",
      "source": [
        "rdd2prime = rdd2.map(lambda x: (x[0],  x[1]  ))\n",
        "rdd2prime.collect()"
      ],
      "metadata": {
        "colab": {
          "base_uri": "https://localhost:8080/"
        },
        "id": "q6XTpl3BZAug",
        "outputId": "006bb3dd-1269-4216-d050-e48113887739"
      },
      "execution_count": null,
      "outputs": [
        {
          "output_type": "execute_result",
          "data": {
            "text/plain": [
              "[('a', 'abc'),\n",
              " ('a', 'apple'),\n",
              " ('a', 'apple'),\n",
              " ('o', 'orange'),\n",
              " ('w', 'watermelon'),\n",
              " ('s', 'seed'),\n",
              " ('a', 'apple_seed'),\n",
              " ('h', 'history'),\n",
              " ('h', 'happy')]"
            ]
          },
          "metadata": {},
          "execution_count": 46
        }
      ]
    },
    {
      "cell_type": "code",
      "source": [
        "rdd2prime = rdd2.map(lambda x: (x[0],   [x[1]]  ))\n",
        "rdd2prime.collect()"
      ],
      "metadata": {
        "colab": {
          "base_uri": "https://localhost:8080/"
        },
        "id": "cAZE2m6GZAzd",
        "outputId": "3467ebf8-7300-4efe-f011-f480f71b9d81"
      },
      "execution_count": null,
      "outputs": [
        {
          "output_type": "execute_result",
          "data": {
            "text/plain": [
              "[('a', ['abc']),\n",
              " ('a', ['apple']),\n",
              " ('a', ['apple']),\n",
              " ('o', ['orange']),\n",
              " ('w', ['watermelon']),\n",
              " ('s', ['seed']),\n",
              " ('a', ['apple_seed']),\n",
              " ('h', ['history']),\n",
              " ('h', ['happy'])]"
            ]
          },
          "metadata": {},
          "execution_count": 47
        }
      ]
    },
    {
      "cell_type": "code",
      "source": [
        "a = ['apple']\n",
        "b = ['ornage']\n",
        "a+b"
      ],
      "metadata": {
        "colab": {
          "base_uri": "https://localhost:8080/"
        },
        "id": "Cwzq3yvwZA12",
        "outputId": "13c14cd6-b8ab-4636-e96e-75d38910badb"
      },
      "execution_count": null,
      "outputs": [
        {
          "output_type": "execute_result",
          "data": {
            "text/plain": [
              "['apple', 'ornage']"
            ]
          },
          "metadata": {},
          "execution_count": 48
        }
      ]
    },
    {
      "cell_type": "code",
      "source": [
        "rdd2prime.reduceByKey(lambda a,b: a+b).collect()"
      ],
      "metadata": {
        "colab": {
          "base_uri": "https://localhost:8080/"
        },
        "id": "h4cz69RIZrTx",
        "outputId": "40c4e19e-0a3f-4019-8820-cc69223d86d3"
      },
      "execution_count": null,
      "outputs": [
        {
          "output_type": "execute_result",
          "data": {
            "text/plain": [
              "[('s', ['seed']),\n",
              " ('a', ['abc', 'apple', 'apple', 'apple_seed']),\n",
              " ('w', ['watermelon']),\n",
              " ('h', ['history', 'happy']),\n",
              " ('o', ['orange'])]"
            ]
          },
          "metadata": {},
          "execution_count": 49
        }
      ]
    },
    {
      "cell_type": "code",
      "source": [
        "rdd3 = rdd2prime.reduceByKey(lambda a,b: a+b)\n",
        "rdd3.mapValues(lambda a: len(a)).collect()"
      ],
      "metadata": {
        "colab": {
          "base_uri": "https://localhost:8080/"
        },
        "id": "d9MYSbjHZroA",
        "outputId": "ab9fd65c-f10b-48ff-f761-7054ff8ed349"
      },
      "execution_count": null,
      "outputs": [
        {
          "output_type": "execute_result",
          "data": {
            "text/plain": [
              "[('s', 1), ('a', 4), ('w', 1), ('h', 2), ('o', 1)]"
            ]
          },
          "metadata": {},
          "execution_count": 51
        }
      ]
    },
    {
      "cell_type": "code",
      "source": [
        "rdd3 = rdd2prime.reduceByKey(lambda a,b: a+b)\n",
        "rdd3.mapValues(len).collect()"
      ],
      "metadata": {
        "colab": {
          "base_uri": "https://localhost:8080/"
        },
        "id": "a3tZX3q9ZrrF",
        "outputId": "7184f533-f1e6-4530-8edd-18f938f835e1"
      },
      "execution_count": null,
      "outputs": [
        {
          "output_type": "execute_result",
          "data": {
            "text/plain": [
              "[('s', 1), ('a', 4), ('w', 1), ('h', 2), ('o', 1)]"
            ]
          },
          "metadata": {},
          "execution_count": 52
        }
      ]
    },
    {
      "cell_type": "markdown",
      "source": [
        "Can we check the values ?"
      ],
      "metadata": {
        "id": "HbXw6AwBgxpU"
      }
    },
    {
      "cell_type": "code",
      "source": [
        "wordsGrouped.mapValues(list).collect()"
      ],
      "metadata": {
        "colab": {
          "base_uri": "https://localhost:8080/"
        },
        "id": "ir04Y3szgv1q",
        "outputId": "57e2d9a7-bfaa-4d6b-d020-dd77ba65a035"
      },
      "execution_count": null,
      "outputs": [
        {
          "output_type": "execute_result",
          "data": {
            "text/plain": [
              "[('orange', [1]),\n",
              " ('watermelon', [1]),\n",
              " ('apple_seed', [1]),\n",
              " ('history', [1]),\n",
              " ('abc', [1]),\n",
              " ('seed', [1]),\n",
              " ('apple', [1, 1]),\n",
              " ('happy', [1])]"
            ]
          },
          "metadata": {},
          "execution_count": 54
        }
      ]
    },
    {
      "cell_type": "code",
      "metadata": {
        "id": "xN5KhBOiZW3J"
      },
      "source": [
        "wordCountsGrouped = wordsGrouped.map(lambda args: (args[0], len(args[1])))"
      ],
      "execution_count": null,
      "outputs": []
    },
    {
      "cell_type": "code",
      "source": [
        "wordCountsGrouped.collect()"
      ],
      "metadata": {
        "colab": {
          "base_uri": "https://localhost:8080/"
        },
        "id": "KK2d4N1nT6Jx",
        "outputId": "1f54bd5e-cd88-43c4-b167-dc72d2f2a72d"
      },
      "execution_count": null,
      "outputs": [
        {
          "output_type": "execute_result",
          "data": {
            "text/plain": [
              "[('orange', 1),\n",
              " ('watermelon', 1),\n",
              " ('apple_seed', 1),\n",
              " ('history', 1),\n",
              " ('abc', 1),\n",
              " ('seed', 1),\n",
              " ('apple', 2),\n",
              " ('happy', 1)]"
            ]
          },
          "metadata": {},
          "execution_count": 16
        }
      ]
    },
    {
      "cell_type": "code",
      "source": [
        "def startWith(str):\n",
        "  return str[0]"
      ],
      "metadata": {
        "id": "pvbUT-8ET8bv"
      },
      "execution_count": null,
      "outputs": []
    },
    {
      "cell_type": "code",
      "source": [
        "startWith(\"apple\")"
      ],
      "metadata": {
        "colab": {
          "base_uri": "https://localhost:8080/",
          "height": 35
        },
        "id": "9fIpIAukURaF",
        "outputId": "db4d3f9d-512f-4a4e-833f-cfad925ce1fd"
      },
      "execution_count": null,
      "outputs": [
        {
          "output_type": "execute_result",
          "data": {
            "text/plain": [
              "'a'"
            ],
            "application/vnd.google.colaboratory.intrinsic+json": {
              "type": "string"
            }
          },
          "metadata": {},
          "execution_count": 18
        }
      ]
    },
    {
      "cell_type": "code",
      "source": [
        "wordPairs = wordsRDD.map(lambda x:(x,1))"
      ],
      "metadata": {
        "id": "k6aJ1yCXUSx4"
      },
      "execution_count": null,
      "outputs": []
    },
    {
      "cell_type": "markdown",
      "source": [
        "Write a code that converst a word into a key-value pair, where the key is the beginning of each word."
      ],
      "metadata": {
        "id": "vpE66FjeUX-x"
      }
    },
    {
      "cell_type": "code",
      "source": [
        "wordPairs2 = wordsRDD.map(lambda x:(x,startWith(x)))"
      ],
      "metadata": {
        "id": "CXkv9atpUiAx"
      },
      "execution_count": null,
      "outputs": []
    },
    {
      "cell_type": "code",
      "source": [
        "wordPairs2.collect()"
      ],
      "metadata": {
        "colab": {
          "base_uri": "https://localhost:8080/"
        },
        "id": "5zn4XoahVFyG",
        "outputId": "4332e7d7-fd08-4523-9de2-0c002e5b49a0"
      },
      "execution_count": null,
      "outputs": [
        {
          "output_type": "execute_result",
          "data": {
            "text/plain": [
              "[('abc', 'a'),\n",
              " ('apple', 'a'),\n",
              " ('apple', 'a'),\n",
              " ('orange', 'o'),\n",
              " ('watermelon', 'w'),\n",
              " ('seed', 's'),\n",
              " ('apple_seed', 'a'),\n",
              " ('history', 'h'),\n",
              " ('happy', 'h')]"
            ]
          },
          "metadata": {},
          "execution_count": 22
        }
      ]
    },
    {
      "cell_type": "markdown",
      "source": [
        "Now, change key-value to value-key   ('abc','a') should be ('a','abc')"
      ],
      "metadata": {
        "id": "0LHwddn8V4s1"
      }
    },
    {
      "cell_type": "code",
      "source": [
        "wordPairs3 = wordPairs2.map(lambda x: (x[1], x[0]))\n",
        "wordPairs3.collect()"
      ],
      "metadata": {
        "colab": {
          "base_uri": "https://localhost:8080/"
        },
        "id": "ek9o6IXXV7dU",
        "outputId": "f896053c-c28e-4d7a-b7e1-bdebd529bf7e"
      },
      "execution_count": null,
      "outputs": [
        {
          "output_type": "execute_result",
          "data": {
            "text/plain": [
              "[('a', 'abc'),\n",
              " ('a', 'apple'),\n",
              " ('a', 'apple'),\n",
              " ('o', 'orange'),\n",
              " ('w', 'watermelon'),\n",
              " ('s', 'seed'),\n",
              " ('a', 'apple_seed'),\n",
              " ('h', 'history'),\n",
              " ('h', 'happy')]"
            ]
          },
          "metadata": {},
          "execution_count": 24
        }
      ]
    },
    {
      "cell_type": "markdown",
      "source": [
        "Let's try to collect all the words that start with the same character :  ('a', ['abc','apple',.... ])"
      ],
      "metadata": {
        "id": "euBDFp7eWor4"
      }
    },
    {
      "cell_type": "code",
      "source": [
        "wordPairs3.reduceByKey(lambda a,b: a+b).collect()"
      ],
      "metadata": {
        "colab": {
          "base_uri": "https://localhost:8080/"
        },
        "id": "XomDFcJRWJtK",
        "outputId": "f582c162-10de-4f60-e986-6b4538cd72d8"
      },
      "execution_count": null,
      "outputs": [
        {
          "output_type": "execute_result",
          "data": {
            "text/plain": [
              "[('s', 'seed'),\n",
              " ('a', 'abcappleappleapple_seed'),\n",
              " ('w', 'watermelon'),\n",
              " ('h', 'historyhappy'),\n",
              " ('o', 'orange')]"
            ]
          },
          "metadata": {},
          "execution_count": 25
        }
      ]
    },
    {
      "cell_type": "code",
      "source": [
        "wordPairs3.groupByKey().collect()"
      ],
      "metadata": {
        "colab": {
          "base_uri": "https://localhost:8080/"
        },
        "id": "7Smd0YX3XCbN",
        "outputId": "91a4aa5b-72a3-458e-82ee-5d6959326c50"
      },
      "execution_count": null,
      "outputs": [
        {
          "output_type": "execute_result",
          "data": {
            "text/plain": [
              "[('s', <pyspark.resultiterable.ResultIterable at 0x7a6ff9c9e110>),\n",
              " ('a', <pyspark.resultiterable.ResultIterable at 0x7a6ff9c9e590>),\n",
              " ('w', <pyspark.resultiterable.ResultIterable at 0x7a6ff9c9dc60>),\n",
              " ('h', <pyspark.resultiterable.ResultIterable at 0x7a6ff9c9f970>),\n",
              " ('o', <pyspark.resultiterable.ResultIterable at 0x7a6ff9c9d990>)]"
            ]
          },
          "metadata": {},
          "execution_count": 26
        }
      ]
    },
    {
      "cell_type": "code",
      "source": [
        "data = [(1, 'a'), (1, 'b'), (2, 'c'), (2, 'd'), (2, 'e'), (3, 'f')]\n",
        "rdd = sc.parallelize(data)\n",
        "result = rdd.groupByKey().collect()"
      ],
      "metadata": {
        "id": "anKgaX4_XaA6"
      },
      "execution_count": null,
      "outputs": []
    },
    {
      "cell_type": "markdown",
      "source": [
        "how about using + with list ?"
      ],
      "metadata": {
        "id": "tF0VFCd1YAou"
      }
    },
    {
      "cell_type": "code",
      "source": [
        "a = [1,2,3]\n",
        "b = [4,5,6]\n",
        "a+b"
      ],
      "metadata": {
        "colab": {
          "base_uri": "https://localhost:8080/"
        },
        "id": "PMnk7YwlZPr5",
        "outputId": "6f609024-c922-4284-ea76-5ae7ccaae379"
      },
      "execution_count": null,
      "outputs": [
        {
          "output_type": "execute_result",
          "data": {
            "text/plain": [
              "[1, 2, 3, 4, 5, 6]"
            ]
          },
          "metadata": {},
          "execution_count": 31
        }
      ]
    },
    {
      "cell_type": "code",
      "source": [
        "wordPairs3.reduceByKey(lambda a,b: [a]+[b]).collect()"
      ],
      "metadata": {
        "colab": {
          "base_uri": "https://localhost:8080/"
        },
        "id": "8e-hwG1qYZni",
        "outputId": "b234ea88-a41d-4aa4-c7f4-e1c344eb10d0"
      },
      "execution_count": null,
      "outputs": [
        {
          "output_type": "execute_result",
          "data": {
            "text/plain": [
              "[('s', 'seed'),\n",
              " ('a', [[['abc', 'apple'], 'apple'], 'apple_seed']),\n",
              " ('w', 'watermelon'),\n",
              " ('h', ['history', 'happy']),\n",
              " ('o', 'orange')]"
            ]
          },
          "metadata": {},
          "execution_count": 30
        }
      ]
    },
    {
      "cell_type": "code",
      "source": [
        "wordPairs3.combineByKey(lambda v:[v],lambda x,y:x+[y],lambda x,y:x+y).collect()"
      ],
      "metadata": {
        "colab": {
          "base_uri": "https://localhost:8080/"
        },
        "id": "IiPTuN0OYKDy",
        "outputId": "8ebac928-7ff7-498e-d013-e599b1a7a192"
      },
      "execution_count": null,
      "outputs": [
        {
          "output_type": "execute_result",
          "data": {
            "text/plain": [
              "[('s', ['seed']),\n",
              " ('a', ['abc', 'apple', 'apple', 'apple_seed']),\n",
              " ('w', ['watermelon']),\n",
              " ('h', ['history', 'happy']),\n",
              " ('o', ['orange'])]"
            ]
          },
          "metadata": {},
          "execution_count": 33
        }
      ]
    },
    {
      "cell_type": "markdown",
      "source": [
        "combineByKey\n",
        "https://spark.apache.org/docs/latest/api/python/reference/api/pyspark.RDD.combineByKey.html"
      ],
      "metadata": {
        "id": "iVCtyK5Navhp"
      }
    },
    {
      "cell_type": "markdown",
      "source": [
        "more simple way ?   create value into list"
      ],
      "metadata": {
        "id": "QskkS6afbbUc"
      }
    },
    {
      "cell_type": "code",
      "source": [],
      "metadata": {
        "id": "TQ1nCWqccFrX"
      },
      "execution_count": null,
      "outputs": []
    },
    {
      "cell_type": "code",
      "source": [
        "wordPairs3.map(lambda x: (x[0], [x[1]])).reduceByKey(lambda p,q: p+q).collect()"
      ],
      "metadata": {
        "colab": {
          "base_uri": "https://localhost:8080/"
        },
        "id": "_H9arHifayA_",
        "outputId": "c55fca1a-fb18-4bcd-eca9-bcda1b4be923"
      },
      "execution_count": null,
      "outputs": [
        {
          "output_type": "execute_result",
          "data": {
            "text/plain": [
              "[('s', ['seed']),\n",
              " ('a', ['abc', 'apple', 'apple', 'apple_seed']),\n",
              " ('w', ['watermelon']),\n",
              " ('h', ['history', 'happy']),\n",
              " ('o', ['orange'])]"
            ]
          },
          "metadata": {},
          "execution_count": 35
        }
      ]
    },
    {
      "cell_type": "markdown",
      "source": [
        "still another way?"
      ],
      "metadata": {
        "id": "3EzX5-3OhQHR"
      }
    },
    {
      "cell_type": "code",
      "source": [
        "wordPairs3.groupByKey().collect()"
      ],
      "metadata": {
        "colab": {
          "base_uri": "https://localhost:8080/"
        },
        "id": "c3CBBk-NhO2V",
        "outputId": "6c9ba378-2931-4073-ba75-bbb74ae7d808"
      },
      "execution_count": null,
      "outputs": [
        {
          "output_type": "execute_result",
          "data": {
            "text/plain": [
              "[('s', <pyspark.resultiterable.ResultIterable at 0x7a6ff9c2fac0>),\n",
              " ('a', <pyspark.resultiterable.ResultIterable at 0x7a6ff9c2e7d0>),\n",
              " ('w', <pyspark.resultiterable.ResultIterable at 0x7a6ff9c2ee60>),\n",
              " ('h', <pyspark.resultiterable.ResultIterable at 0x7a6ff9c2e4a0>),\n",
              " ('o', <pyspark.resultiterable.ResultIterable at 0x7a6ff9c2fb20>)]"
            ]
          },
          "metadata": {},
          "execution_count": 55
        }
      ]
    },
    {
      "cell_type": "code",
      "source": [
        "wordPairs3.groupByKey().mapValues(list).collect()"
      ],
      "metadata": {
        "colab": {
          "base_uri": "https://localhost:8080/"
        },
        "id": "mDS8lWh2hWxz",
        "outputId": "d6cecb69-b510-4925-bb87-5e3763f57aa3"
      },
      "execution_count": null,
      "outputs": [
        {
          "output_type": "execute_result",
          "data": {
            "text/plain": [
              "[('s', ['seed']),\n",
              " ('a', ['abc', 'apple', 'apple', 'apple_seed']),\n",
              " ('w', ['watermelon']),\n",
              " ('h', ['history', 'happy']),\n",
              " ('o', ['orange'])]"
            ]
          },
          "metadata": {},
          "execution_count": 57
        }
      ]
    },
    {
      "cell_type": "code",
      "source": [
        "wordPairs4 = wordPairs3.map(lambda x: (x[0], [x[1]]))"
      ],
      "metadata": {
        "id": "P38nXpyFbifG"
      },
      "execution_count": null,
      "outputs": []
    }
  ]
}